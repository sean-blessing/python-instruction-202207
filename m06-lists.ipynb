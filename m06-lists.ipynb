{
 "cells": [
  {
   "cell_type": "code",
   "execution_count": 1,
   "metadata": {},
   "outputs": [
    {
     "name": "stdout",
     "output_type": "stream",
     "text": [
      "i = 0\n",
      "i = 1\n",
      "i = 2\n",
      "i = 3\n",
      "i = 4\n",
      "i = 5\n",
      "i = 6\n",
      "i = 7\n",
      "i = 8\n",
      "i = 9\n",
      "i = 10\n"
     ]
    }
   ],
   "source": [
    "# a list of numbers, 0 to 10\n",
    "nbrs = [0,1,2,3,4,5,6,7,8,9,10]\n",
    "\n",
    "for i in range(len(nbrs)):\n",
    "    print(f'i = {i}')"
   ]
  },
  {
   "cell_type": "code",
   "execution_count": 2,
   "metadata": {},
   "outputs": [
    {
     "name": "stdout",
     "output_type": "stream",
     "text": [
      "Foo Fighters\n",
      "Bob Marley\n",
      "The Police\n",
      "Ariana Grande\n",
      "Bruno Mars\n",
      "P!nk\n",
      "Wet Leg\n"
     ]
    }
   ],
   "source": [
    "# a list of strings\n",
    "bands = ['Foo Fighters', 'Bob Marley', 'The Police', 'Ariana Grande', 'Bruno Mars', 'P!nk', 'Wet Leg']\n",
    "for band in bands:\n",
    "    print(band)"
   ]
  },
  {
   "cell_type": "code",
   "execution_count": 3,
   "metadata": {},
   "outputs": [
    {
     "name": "stdout",
     "output_type": "stream",
     "text": [
      "[0, 2, 4, 6, 8, 10]\n"
     ]
    }
   ],
   "source": [
    "# build a list of even #s with list comprehension - example from book\n",
    "evens = [num for num in range (0,11) if num % 2 == 0]\n",
    "print(evens)"
   ]
  },
  {
   "cell_type": "code",
   "execution_count": 4,
   "metadata": {},
   "outputs": [
    {
     "name": "stdout",
     "output_type": "stream",
     "text": [
      "[1, 2, 'fizz', 4, 'buzz', 'fizz', 7, 8, 'fizz', 'buzz', 11, 'fizz', 13, 14, 'fizzbuzz', 16, 17, 'fizz', 19, 'buzz', 'fizz', 22, 23, 'fizz', 'buzz', 26, 'fizz', 28, 29, 'fizzbuzz', 31, 32, 'fizz', 34, 'buzz', 'fizz', 37, 38, 'fizz', 'buzz', 41, 'fizz', 43, 44, 'fizzbuzz', 46, 47, 'fizz', 49, 'buzz']\n"
     ]
    }
   ],
   "source": [
    "fizzbuzz = []\n",
    "for i in range(1,51):\n",
    "    if i % 3== 0 and i % 5 == 0:\n",
    "        fizzbuzz.append('fizzbuzz')\n",
    "    elif i % 3 == 0:\n",
    "        fizzbuzz.append('fizz')\n",
    "    elif i % 5 == 0:\n",
    "        fizzbuzz.append('buzz')\n",
    "    else:\n",
    "        fizzbuzz.append(i)\n",
    "print(fizzbuzz)"
   ]
  },
  {
   "cell_type": "code",
   "execution_count": 6,
   "metadata": {},
   "outputs": [
    {
     "name": "stdout",
     "output_type": "stream",
     "text": [
      "[1, 2, 'fizz', 4, 'buzz', 'fizz', 7, 8, 'fizz', 'buzz', 11, 'fizz', 13, 14, 'fizzbuzz', 16, 17, 'fizz', 19, 'buzz', 'fizz', 22, 23, 'fizz', 'buzz', 26, 'fizz', 28, 29, 'fizzbuzz', 31, 32, 'fizz', 34, 'buzz', 'fizz', 37, 38, 'fizz', 'buzz', 41, 'fizz', 43, 44, 'fizzbuzz', 46, 47, 'fizz', 49, 'buzz']\n"
     ]
    }
   ],
   "source": [
    "# fizz buzz: /3 fizz, /5 buzz, /3 and /5 fizzbuxx, else #\n",
    "fizzbuzz = ['fizzbuzz' if (v%3 == 0 and v%5 == 0) else 'fizz' if (v % 3 == 0) else 'buzz' if v % 5 == 0 else v for v in range(1, 51)]\n",
    "print(fizzbuzz)"
   ]
  }
 ],
 "metadata": {
  "kernelspec": {
   "display_name": "Python 3.10.4 64-bit",
   "language": "python",
   "name": "python3"
  },
  "language_info": {
   "codemirror_mode": {
    "name": "ipython",
    "version": 3
   },
   "file_extension": ".py",
   "mimetype": "text/x-python",
   "name": "python",
   "nbconvert_exporter": "python",
   "pygments_lexer": "ipython3",
   "version": "3.10.4"
  },
  "orig_nbformat": 4,
  "vscode": {
   "interpreter": {
    "hash": "723324c02740d6f1d8c333ee4c9b8d2031f6c1c85d7229c12e217e1d9cefda12"
   }
  }
 },
 "nbformat": 4,
 "nbformat_minor": 2
}
